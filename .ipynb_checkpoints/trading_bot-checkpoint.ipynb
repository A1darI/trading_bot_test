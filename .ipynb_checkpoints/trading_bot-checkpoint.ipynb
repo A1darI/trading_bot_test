{
 "cells": [
  {
   "cell_type": "code",
   "execution_count": 1,
   "id": "4e876ad2",
   "metadata": {},
   "outputs": [],
   "source": [
    "import pandas as pd\n",
    "import numpy as np\n",
    "import statsmodels.api as sm\n",
    "import matplotlib.pyplot as plt\n",
    "from copy import deepcopy"
   ]
  },
  {
   "cell_type": "code",
   "execution_count": 2,
   "id": "5599291b",
   "metadata": {},
   "outputs": [],
   "source": [
    "interval_var = '5min'\n",
    "symbol='BTC'"
   ]
  },
  {
   "cell_type": "code",
   "execution_count": 3,
   "id": "be7305af",
   "metadata": {},
   "outputs": [],
   "source": [
    "df = pd.read_csv('BTC_USD_210101_220101.csv')"
   ]
  },
  {
   "cell_type": "code",
   "execution_count": 4,
   "id": "ad56b9b1",
   "metadata": {},
   "outputs": [
    {
     "name": "stdout",
     "output_type": "stream",
     "text": [
      "         <DATE>  <TIME>    <OPEN>    <HIGH>     <LOW>   <CLOSE>  <VOL>\n",
      "0      20210101     500  29181.00  29192.69  29000.00  29032.43    199\n",
      "1      20210101    1000  29030.13  29046.50  28946.22  29042.15     88\n",
      "2      20210101    1500  29042.16  29088.00  29025.42  29088.00     43\n",
      "3      20210101    2000  29087.99  29198.98  29081.51  29191.54     88\n",
      "4      20210101    2500  29193.04  29198.73  29100.00  29129.63    116\n",
      "...         ...     ...       ...       ...       ...       ...    ...\n",
      "25915  20210331  234000  58885.70  58933.51  58846.87  58914.08     49\n",
      "25916  20210331  234500  58914.75  59056.69  58908.32  58977.78     36\n",
      "25917  20210331  235000  58977.78  59082.07  58949.30  59027.06     45\n",
      "25918  20210331  235500  59028.12  59115.17  59026.37  59078.69     40\n",
      "25919  20210401       0  59078.68  59078.69  58930.01  58950.03     70\n",
      "\n",
      "[25920 rows x 7 columns]\n"
     ]
    }
   ],
   "source": [
    "df = df[:25920]\n",
    "print(df)"
   ]
  },
  {
   "cell_type": "code",
   "execution_count": 5,
   "id": "1b2ccb37",
   "metadata": {
    "scrolled": true
   },
   "outputs": [],
   "source": [
    "df=df.drop('<TIME>', axis=1)\n"
   ]
  },
  {
   "cell_type": "code",
   "execution_count": 6,
   "id": "0dde57f7",
   "metadata": {},
   "outputs": [],
   "source": [
    "def AddSlopes(df, n):    \n",
    "    slopes_array = [0]*(n-1)\n",
    "    x = np.array(range(n))\n",
    "    x_sc = (x - x.min())/(x.max() - x.min())\n",
    "    x_sc = sm.add_constant(x_sc)\n",
    "    for j in range(n, len(df) + 1):\n",
    "        y = df['close'][j-n:j]\n",
    "        y_sc = (y - y.min())/(y.max() - y.min())\n",
    "        model = sm.OLS(y_sc,x_sc)\n",
    "        results = model.fit()\n",
    "        slopes_array.append(results.params[-1])\n",
    "    slopes_array = np.rad2deg(np.arctan(np.array(slopes_array)))\n",
    "    df['slope'] = slopes_array"
   ]
  },
  {
   "cell_type": "code",
   "execution_count": 7,
   "id": "50ece299",
   "metadata": {},
   "outputs": [],
   "source": [
    "def AddChannel(df, lenght):\n",
    "    df['channel_max'] = df['high'].rolling(lenght).max()\n",
    "    df['channel_min'] = df['low'].rolling(lenght).min()\n",
    "    df['position_in_channel'] = (df['close'] - df['channel_min']) / (df['channel_max'] - df['channel_min'])"
   ]
  },
  {
   "cell_type": "code",
   "execution_count": 8,
   "id": "71cce642",
   "metadata": {
    "scrolled": false
   },
   "outputs": [],
   "source": [
    "def PrepareDF(df):\n",
    "    df.columns = [\"date\",\"open\",\"high\",\"low\",\"close\",\"volume\"]\n",
    "     \n",
    "    df.reset_index()\n",
    "    AddSlopes(df, 5)\n",
    "    AddChannel(df, 14)\n"
   ]
  },
  {
   "cell_type": "code",
   "execution_count": 9,
   "id": "b65763f2",
   "metadata": {},
   "outputs": [
    {
     "name": "stdout",
     "output_type": "stream",
     "text": [
      "           date      open      high       low     close  volume      slope  \\\n",
      "0      20210101  29181.00  29192.69  29000.00  29032.43     199   0.000000   \n",
      "1      20210101  29030.13  29046.50  28946.22  29042.15      88   0.000000   \n",
      "2      20210101  29042.16  29088.00  29025.42  29088.00      43   0.000000   \n",
      "3      20210101  29087.99  29198.98  29081.51  29191.54      88   0.000000   \n",
      "4      20210101  29193.04  29198.73  29100.00  29129.63     116  40.836284   \n",
      "...         ...       ...       ...       ...       ...     ...        ...   \n",
      "25915  20210331  58885.70  58933.51  58846.87  58914.08      49  41.122560   \n",
      "25916  20210331  58914.75  59056.69  58908.32  58977.78      36  34.670113   \n",
      "25917  20210331  58977.78  59082.07  58949.30  59027.06      45  26.429552   \n",
      "25918  20210331  59028.12  59115.17  59026.37  59078.69      40  45.887812   \n",
      "25919  20210401  59078.68  59078.69  58930.01  58950.03      70  22.778796   \n",
      "\n",
      "       channel_max  channel_min  position_in_channel  \n",
      "0              NaN          NaN                  NaN  \n",
      "1              NaN          NaN                  NaN  \n",
      "2              NaN          NaN                  NaN  \n",
      "3              NaN          NaN                  NaN  \n",
      "4              NaN          NaN                  NaN  \n",
      "...            ...          ...                  ...  \n",
      "25915     59572.61     58347.44             0.462499  \n",
      "25916     59400.01     58347.44             0.598858  \n",
      "25917     59203.18     58347.44             0.794190  \n",
      "25918     59203.18     58347.44             0.854524  \n",
      "25919     59143.33     58347.44             0.757127  \n",
      "\n",
      "[25920 rows x 10 columns]\n"
     ]
    }
   ],
   "source": [
    "PrepareDF(df)\n",
    "prepared_df = df\n",
    "print(prepared_df)"
   ]
  },
  {
   "cell_type": "code",
   "execution_count": 10,
   "id": "c48166bc",
   "metadata": {},
   "outputs": [],
   "source": [
    "# LMin - local minimum\n",
    "def isLMin(DF,i):\n",
    "    ans = False\n",
    "    if DF['close'][i]<=DF['close'][i+1] and DF['close'][i]<=DF['close'][i-1] and DF['close'][i+1]>DF['close'][i-1]:\n",
    "        #найдено Дно\n",
    "        ans = True;\n",
    "    return ans\n",
    "\n",
    "# LMAX - local maximum\n",
    "def isLMax(DF,i):\n",
    "    ans = False\n",
    "    if DF['close'][i]>=DF['close'][i+1] and DF['close'][i]>=DF['close'][i-1] and DF['close'][i+1]<DF['close'][i-1]:\n",
    "        #найдена вершина\n",
    "        ans = True;\n",
    "    return ans\n",
    "\n",
    "\n",
    "\n",
    "\n",
    "\n",
    "#%%\n",
    "\n",
    "def getMaxMinChannel(DF, n):\n",
    "    maxx=0\n",
    "    minn=0\n",
    "    for i in range (0,n-1):\n",
    "        if maxx<DF['high'][len(DF)-i]:\n",
    "            maxx=DF['high'][len(DF)-i]\n",
    "        if minn>DF['low'][len(DF)-i]:\n",
    "            minn=DF['low'][len(DF)-i]\n",
    "    return(maxx,minn)"
   ]
  },
  {
   "cell_type": "markdown",
   "id": "29fde481",
   "metadata": {},
   "source": []
  },
  {
   "cell_type": "code",
   "execution_count": 12,
   "id": "12056857",
   "metadata": {},
   "outputs": [
    {
     "data": {
      "text/plain": [
       "<AxesSubplot:>"
      ]
     },
     "execution_count": 12,
     "metadata": {},
     "output_type": "execute_result"
    },
    {
     "data": {
      "image/png": "[encoded data removed]",
      "text/plain": [
       "<Figure size 432x288 with 1 Axes>"
      ]
     },
     "metadata": {
      "needs_background": "light"
     },
     "output_type": "display_data"
    }
   ],
   "source": [
    "prepared_df[:100]['close'].plot()"
   ]
  },
  {
   "cell_type": "code",
   "execution_count": 13,
   "id": "06e34a33",
   "metadata": {},
   "outputs": [
    {
     "data": {
      "text/plain": [
       "<AxesSubplot:>"
      ]
     },
     "execution_count": 13,
     "metadata": {},
     "output_type": "execute_result"
    },
    {
     "data": {
      "image/png": "[encoded data removed]",
      "text/plain": [
       "<Figure size 432x288 with 1 Axes>"
      ]
     },
     "metadata": {
      "needs_background": "light"
     },
     "output_type": "display_data"
    }
   ],
   "source": [
    "prepared_df[:100]['slope'].plot()"
   ]
  },
  {
   "cell_type": "code",
   "execution_count": 14,
   "id": "2b39e19d",
   "metadata": {},
   "outputs": [
    {
     "data": {
      "text/plain": [
       "<AxesSubplot:>"
      ]
     },
     "execution_count": 14,
     "metadata": {},
     "output_type": "execute_result"
    },
    {
     "data": {
      "image/png": "[encoded data removed]",
      "text/plain": [
       "<Figure size 432x288 with 1 Axes>"
      ]
     },
     "metadata": {
      "needs_background": "light"
     },
     "output_type": "display_data"
    }
   ],
   "source": [
    "prepared_df[:100][{'channel_max', 'channel_min', 'close'}].plot()"
   ]
  },
  {
   "cell_type": "code",
   "execution_count": 15,
   "id": "192b85d0",
   "metadata": {},
   "outputs": [
    {
     "data": {
      "text/plain": [
       "<AxesSubplot:>"
      ]
     },
     "execution_count": 15,
     "metadata": {},
     "output_type": "execute_result"
    },
    {
     "data": {
      "image/png": "[encoded data removed]",
      "text/plain": [
       "<Figure size 432x288 with 1 Axes>"
      ]
     },
     "metadata": {
      "needs_background": "light"
     },
     "output_type": "display_data"
    }
   ],
   "source": [
    "prepared_df[:100]['position_in_channel'].plot()"
   ]
  },
  {
   "cell_type": "code",
   "execution_count": 16,
   "id": "031ba780",
   "metadata": {},
   "outputs": [],
   "source": [
    "#prepared_df = prepared_df[:2016]"
   ]
  },
  {
   "cell_type": "code",
   "execution_count": 17,
   "id": "47fa35ef",
   "metadata": {},
   "outputs": [],
   "source": [
    "lend = len(prepared_df)"
   ]
  },
  {
   "cell_type": "code",
   "execution_count": 18,
   "id": "1ec00c04",
   "metadata": {},
   "outputs": [],
   "source": [
    "prepared_df['hcc'] = [None] * lend\n",
    "prepared_df['lcc'] = [None] * lend"
   ]
  },
  {
   "cell_type": "code",
   "execution_count": 19,
   "id": "958e9491",
   "metadata": {},
   "outputs": [
    {
     "ename": "NameError",
     "evalue": "name 'isHCC' is not defined",
     "output_type": "error",
     "traceback": [
      "\u001b[1;31m---------------------------------------------------------------------------\u001b[0m",
      "\u001b[1;31mNameError\u001b[0m                                 Traceback (most recent call last)",
      "\u001b[1;32m~\\AppData\\Local\\Temp/ipykernel_32/3305914640.py\u001b[0m in \u001b[0;36m<module>\u001b[1;34m\u001b[0m\n\u001b[0;32m      1\u001b[0m \u001b[1;32mfor\u001b[0m \u001b[0mi\u001b[0m \u001b[1;32min\u001b[0m \u001b[0mrange\u001b[0m\u001b[1;33m(\u001b[0m\u001b[1;36m4\u001b[0m\u001b[1;33m,\u001b[0m \u001b[0mlend\u001b[0m \u001b[1;33m-\u001b[0m \u001b[1;36m1\u001b[0m\u001b[1;33m)\u001b[0m\u001b[1;33m:\u001b[0m\u001b[1;33m\u001b[0m\u001b[1;33m\u001b[0m\u001b[0m\n\u001b[1;32m----> 2\u001b[1;33m     \u001b[1;32mif\u001b[0m \u001b[0misHCC\u001b[0m\u001b[1;33m(\u001b[0m\u001b[0mprepared_df\u001b[0m\u001b[1;33m,\u001b[0m \u001b[0mi\u001b[0m\u001b[1;33m)\u001b[0m \u001b[1;33m>\u001b[0m \u001b[1;36m0\u001b[0m\u001b[1;33m:\u001b[0m\u001b[1;33m\u001b[0m\u001b[1;33m\u001b[0m\u001b[0m\n\u001b[0m\u001b[0;32m      3\u001b[0m         \u001b[0mprepared_df\u001b[0m\u001b[1;33m.\u001b[0m\u001b[0mat\u001b[0m\u001b[1;33m[\u001b[0m\u001b[0mi\u001b[0m\u001b[1;33m,\u001b[0m \u001b[1;34m'hcc'\u001b[0m\u001b[1;33m]\u001b[0m \u001b[1;33m=\u001b[0m \u001b[0mprepared_df\u001b[0m\u001b[1;33m[\u001b[0m\u001b[1;34m'close'\u001b[0m\u001b[1;33m]\u001b[0m\u001b[1;33m[\u001b[0m\u001b[0mi\u001b[0m\u001b[1;33m]\u001b[0m\u001b[1;33m\u001b[0m\u001b[1;33m\u001b[0m\u001b[0m\n\u001b[0;32m      4\u001b[0m     \u001b[1;32mif\u001b[0m \u001b[0misLCC\u001b[0m\u001b[1;33m(\u001b[0m\u001b[0mprepared_df\u001b[0m\u001b[1;33m,\u001b[0m \u001b[0mi\u001b[0m\u001b[1;33m)\u001b[0m \u001b[1;33m>\u001b[0m \u001b[1;36m0\u001b[0m\u001b[1;33m:\u001b[0m\u001b[1;33m\u001b[0m\u001b[1;33m\u001b[0m\u001b[0m\n\u001b[0;32m      5\u001b[0m         \u001b[0mprepared_df\u001b[0m\u001b[1;33m.\u001b[0m\u001b[0mat\u001b[0m\u001b[1;33m[\u001b[0m\u001b[0mi\u001b[0m\u001b[1;33m,\u001b[0m \u001b[1;34m'lcc'\u001b[0m\u001b[1;33m]\u001b[0m \u001b[1;33m=\u001b[0m \u001b[0mprepared_df\u001b[0m\u001b[1;33m[\u001b[0m\u001b[1;34m'close'\u001b[0m\u001b[1;33m]\u001b[0m\u001b[1;33m[\u001b[0m\u001b[0mi\u001b[0m\u001b[1;33m]\u001b[0m\u001b[1;33m\u001b[0m\u001b[1;33m\u001b[0m\u001b[0m\n",
      "\u001b[1;31mNameError\u001b[0m: name 'isHCC' is not defined"
     ]
    }
   ],
   "source": [
    "for i in range(4, lend - 1):\n",
    "    if isHCC(prepared_df, i) > 0:\n",
    "        prepared_df.at[i, 'hcc'] = prepared_df['close'][i]\n",
    "    if isLCC(prepared_df, i) > 0:\n",
    "        prepared_df.at[i, 'lcc'] = prepared_df['close'][i]\n",
    "prepared_df[:15]"
   ]
  },
  {
   "cell_type": "code",
   "execution_count": null,
   "id": "a53d3cb3",
   "metadata": {},
   "outputs": [],
   "source": [
    "prepared_df[:50]['close'].plot()"
   ]
  },
  {
   "cell_type": "code",
   "execution_count": null,
   "id": "6cdc07a4",
   "metadata": {},
   "outputs": [],
   "source": [
    "### рисовалка\n",
    "\n",
    "aa = prepared_df[:100]\n",
    "aa=aa.reset_index()\n",
    "\n",
    "#labels = ['close',\"deal_o\",\"deal_c\"]\n",
    "labels = ['close',\"hcc\",\"lcc\",\"channel_max\",\"channel_min\"]\n",
    "\n",
    "labels_line = ['--',\"*-\",\"*-\",\"g-\",\"r-\"]\n",
    "\n",
    "\n",
    "j=0\n",
    "x = pd.DataFrame()\n",
    "y = pd.DataFrame()\n",
    "for i in labels:\n",
    "    x[j]=aa['index']\n",
    "    y[j]=aa[i]\n",
    "    j=j+1\n",
    "\n",
    "fig, (ax1, ax2,ax3) = plt.subplots(3, 1)\n",
    "\n",
    "fig.suptitle('Deals')\n",
    "fig.set_size_inches(20, 10)\n",
    "\n",
    "for j in range(0,len(labels)):\n",
    "    ax1.plot(x[j], y[j], labels_line[j])\n",
    "\n",
    "\n",
    "ax1.set_ylabel('Price')\n",
    "ax1.grid(True)\n",
    "\n",
    "ax2.plot(x[0], aa['slope'], '.-') #EMA\n",
    "ax3.plot(x[0], aa['position_in_channel'], '.-') #EMA\n",
    "\n",
    "ax2.grid(True)\n",
    "ax3.grid(True)\n",
    "\n",
    "plt.show()\n"
   ]
  },
  {
   "cell_type": "code",
   "execution_count": null,
   "id": "91570954",
   "metadata": {},
   "outputs": [],
   "source": [
    "position=0\n",
    "deal=0\n",
    "#85481.99999999968\n",
    "stop_percent = 0.038\n",
    "btc_profit_array = [[251,10], [400, 0]]\n",
    "x, y, mx, mn = 0, 0, 0, 0\n",
    "\n",
    "print('go')\n",
    "prepared_df['deal_o']=[None]*lend\n",
    "prepared_df['deal_c']=[None]*lend\n",
    "prepared_df['earn']=[None]*lend\n",
    "\n",
    "wait = 0\n",
    "sum_sosat = 0\n",
    "\n",
    "cst = 53\n",
    "sm = [0]*cst\n",
    "\n",
    "for i in range(4,lend-1):\n",
    "    sm.append(deal)\n",
    "    \n",
    "    \n",
    "    \n",
    "    if wait > 0:\n",
    "        wait -= 1\n",
    "        continue\n",
    "\n",
    "    mx = max(mx, deal)\n",
    "    mn = min(mn, deal)\n",
    "    prepared_df.at[i,'earn']=deal\n",
    "\n",
    "    if position>0:\n",
    "    # long\n",
    "        if(prepared_df['close'][i]<stop_price):\n",
    "            #stop loss\n",
    "            wait = 1\n",
    "            pred = deal\n",
    "            deal=deal-(open_price-prepared_df['close'][i]) * position\n",
    "            sum_sosat += pred-deal\n",
    "            position=0\n",
    "            #print(i, 'stop loss')\n",
    "            prepared_df.at[i,'deal_c']=prepared_df['close'][i]\n",
    "\n",
    "        else:\n",
    "            temp_arr=deepcopy(proffit_array)\n",
    "            for j in range(0,len(temp_arr)-1):\n",
    "                delta=temp_arr[j][0]\n",
    "                contracts=temp_arr[j][1]\n",
    "                if(prepared_df['close'][i]>(open_price+delta)):\n",
    "                    #print(proffit_array)\n",
    "                    prepared_df.at[i,'deal_c']=prepared_df['close'][i]\n",
    "                    position=position-contracts\n",
    "                    deal=deal+(prepared_df['close'][i]-open_price)*contracts\n",
    "                    del proffit_array[0]\n",
    "\n",
    "    elif position<0:\n",
    "    # short\n",
    "        if(prepared_df['close'][i]>stop_price):\n",
    "            #stop loss\n",
    "            wait = 1\n",
    "            pred = deal\n",
    "            deal=deal + (prepared_df['close'][i]-open_price) * position\n",
    "            sum_sosat += pred-deal\n",
    "            position=0\n",
    "            prepared_df.at[i,'deal_c']=prepared_df['close'][i]\n",
    "            #print(i, 'stop loss')\n",
    "        else:\n",
    "            temp_arr=deepcopy(proffit_array)\n",
    "            for j in range(0,len(temp_arr)-1):\n",
    "                delta=temp_arr[j][0]\n",
    "                contracts=temp_arr[j][1]\n",
    "                if(prepared_df['close'][i]<(open_price-delta)):\n",
    "                    #print(proffit_array)\n",
    "                    prepared_df.at[i,'deal_c']=prepared_df['close'][i]\n",
    "                    position=position+contracts\n",
    "                    deal=deal+(open_price-prepared_df['close'][i])*contracts\n",
    "                    del proffit_array[0]\n",
    "    else:\n",
    "        if sm[i+cst-4]-sm[i-4]<-10000:\n",
    "            continue\n",
    "        if(prepared_df['lcc'][i-1]!=None):\n",
    "            # long\n",
    "            if(prepared_df['position_in_channel'][i-1]<0.3):\n",
    "                if((prepared_df['slope'][i-1])<-20):\n",
    "                    prepared_df.at[i,'deal_o']=prepared_df['close'][i]\n",
    "                    #print(i,'open long position')\n",
    "                    proffit_array=deepcopy(btc_profit_array)\n",
    "                    position=10\n",
    "                    open_price=prepared_df['close'][i]\n",
    "                    stop_price=prepared_df['close'][i]*(1-stop_percent)\n",
    "        if(prepared_df['hcc'][i-1]!=None):\n",
    "            # short\n",
    "            if(prepared_df['position_in_channel'][i-1]>0.67):\n",
    "                if((prepared_df['slope'][i-1])>22):\n",
    "                    prepared_df.at[i,'deal_o']=prepared_df['close'][i]\n",
    "                    #print(i,'open short position')\n",
    "                    proffit_array=deepcopy(btc_profit_array)\n",
    "                    position=-10\n",
    "                    open_price=prepared_df['close'][i]\n",
    "                    stop_price=prepared_df['close'][i]*(1+stop_percent)\n",
    "    \n",
    "#print(deal, stop_percent, profit)\n",
    "if deal > mx:\n",
    "    mx = deal\n",
    "    x = stop_percent\n",
    "    #y = profit\n",
    "\n",
    "print(deal)\n",
    "print('maximum: ',mx, x, y)\n",
    "print('minimum: ',mn, x, y)\n",
    "print('sosat: ', sum_sosat)"
   ]
  },
  {
   "cell_type": "code",
   "execution_count": null,
   "id": "36c3779c",
   "metadata": {},
   "outputs": [],
   "source": []
  },
  {
   "cell_type": "code",
   "execution_count": null,
   "id": "e2627d5b",
   "metadata": {},
   "outputs": [],
   "source": [
    "36649.89999999991 0.038 203\n",
    "45936.19999999988 0.038 206\n",
    "45936.19999999988 0.038 209\n",
    "45936.19999999988 0.038 212\n",
    "45936.19999999988 0.038 215\n",
    "70686.39999999985 0.038 218\n",
    "71937.29999999981 0.038 221\n",
    "69910.7999999998 0.038 224\n",
    "72169.49999999983 0.038 227\n",
    "72169.49999999983 0.038 230\n",
    "72930.29999999984 0.038 233\n",
    "73570.49999999988 0.038 236\n",
    "80899.6999999998 0.038 239\n",
    "84918.49999999977 0.038 242\n",
    "85306.59999999974 0.038 245\n",
    "85481.99999999968 0.038 248\n",
    "85481.99999999968 0.038 251\n",
    "68608.09999999976 0.038 254\n",
    "48761.09999999979 0.038 257\n",
    "25945.69999999985 0.038 260\n",
    "26562.799999999843 0.038 263\n",
    "27962.399999999907 0.038 266\n",
    "27962.399999999907 0.038 269\n",
    "27962.399999999907 0.038 272\n",
    "27962.399999999907 0.038 275\n",
    "27962.399999999907 0.038 278\n",
    "28190.199999999895 0.038 281\n",
    "28190.199999999895 0.038 284\n",
    "28231.899999999878 0.038 287\n",
    "30805.099999999875 0.038 290\n",
    "32185.099999999875 0.038 293\n",
    "32185.099999999875 0.038 296\n",
    "32185.099999999875 0.038 299\n",
    "74347.29999999967 0.038 302\n",
    "61437.69999999975 0.038 305\n",
    "63005.29999999977 0.038 308\n",
    "63149.799999999814 0.038 311\n",
    "63149.799999999814 0.038 314\n",
    "59983.09999999983 0.038 317"
   ]
  },
  {
   "cell_type": "code",
   "execution_count": null,
   "id": "3ecc037f",
   "metadata": {},
   "outputs": [],
   "source": [
    "49005.699999999924 0.017 176\n",
    "51960.099999999875 0.017 179\n",
    "52322.899999999936 0.017 182\n",
    "52322.899999999936 0.017 185\n",
    "52322.899999999936 0.017 188\n",
    "40049.79999999989 0.017 191\n",
    "40073.89999999985 0.017 194\n",
    "39677.79999999984 0.017 197\n",
    "40040.19999999982 0.017 200\n",
    "41350.29999999977 0.017 203\n",
    "36273.599999999715 0.017 206\n",
    "37263.99999999972 0.017 209\n",
    "37263.99999999972 0.017 212\n",
    "35920.69999999978 0.017 215\n",
    "44104.19999999984 0.017 218\n",
    "45355.0999999998 0.017 221\n",
    "43328.59999999979 0.017 224\n",
    "45587.299999999814 0.017 227\n",
    "45719.799999999814 0.017 230\n",
    "46480.59999999983 0.017 233\n",
    "47120.79999999987 0.017 236\n",
    "47433.19999999978 0.017 239\n",
    "50358.399999999674 0.017 242\n",
    "50746.49999999965 0.017 245\n",
    "50921.89999999959 0.017 248\n",
    "50921.89999999959 0.017 251\n",
    "44851.49999999958 0.017 254\n",
    "45530.29999999955 0.017 257"
   ]
  },
  {
   "cell_type": "code",
   "execution_count": null,
   "id": "8d5ac74d",
   "metadata": {},
   "outputs": [],
   "source": [
    "print(deal)"
   ]
  },
  {
   "cell_type": "code",
   "execution_count": null,
   "id": "25d29cef",
   "metadata": {},
   "outputs": [],
   "source": [
    "df = pd.read_csv(r'C:\\Users\\aidar\\four_years.csv')\n",
    "df=df.drop('<TIME>',axis=1)\n",
    "df.columns = [\"date\",\"open\",\"high\",\"low\",\"close\",\"volume\"]\n",
    "\n",
    "first_index = 0#52*7\n",
    "for first_index in range(0, 52*7*4, 52*7):\n",
    "    print()\n",
    "    print(2018+first_index//(52*7))\n",
    "    prepared_df = df[first_index:first_index+52*7]\n",
    "    prepared_df = prepared_df.reset_index()\n",
    "    #print(prepared_df)\n",
    "\n",
    "    s = deepcopy(prepared_df['close'])\n",
    "    s = s.shift(1)\n",
    "    prepared_df['delta'] = prepared_df['close'] - s\n",
    "    prepared_df\n",
    "\n",
    "    count = [[0,0] for i in range(7)]\n",
    "\n",
    "    const = 2.5\n",
    "    for i in range(1, len(prepared_df)):\n",
    "        if prepared_df['delta'][i] < 0:\n",
    "            if abs(100*(prepared_df['delta'][i]/prepared_df['close'][i-1]))>const:\n",
    "                count[i%7][0] += 1\n",
    "                #count[i%7][0]-=100*(prepared_df['delta'][i]/prepared_df['close'][i-1])\n",
    "        else:\n",
    "            if abs(100*(prepared_df['delta'][i]/prepared_df['close'][i-1]))>const:\n",
    "                count[i%7][1] += 1\n",
    "                #count[i%7][1]+=100*(prepared_df['delta'][i]/prepared_df['close'][i-1])\n",
    "\n",
    "    def func(a):\n",
    "        s = 10-len(str(a))\n",
    "        print(' '*s, a, end='')\n",
    "\n",
    "    print(' '*19, 'падение ',' '*4, 'рост ')\n",
    "    a = []\n",
    "    first_day_in_year = 0\n",
    "    for i in range(len(count)):\n",
    "        index = (i+7-first_day_in_year)%7\n",
    "        x,y = count[index]\n",
    "        #print(f'day {i+1}: ',*count[index], y/x)\n",
    "        a.append([i+1, *count[index], y+x])\n",
    "    a.sort(key=lambda x: x[3])\n",
    "    for i in range(len(a)):\n",
    "        print('day: ',end = '')\n",
    "        for j in range(len(a[i])):\n",
    "            func(a[i][j])\n",
    "        print()"
   ]
  },
  {
   "cell_type": "code",
   "execution_count": null,
   "id": "0f714ee0",
   "metadata": {},
   "outputs": [],
   "source": []
  }
 ],
 "metadata": {
  "kernelspec": {
   "display_name": "Python 3 (ipykernel)",
   "language": "python",
   "name": "python3"
  },
  "language_info": {
   "codemirror_mode": {
    "name": "ipython",
    "version": 3
   },
   "file_extension": ".py",
   "mimetype": "text/x-python",
   "name": "python",
   "nbconvert_exporter": "python",
   "pygments_lexer": "ipython3",
   "version": "3.10.0"
  }
 },
 "nbformat": 4,
 "nbformat_minor": 5
}
